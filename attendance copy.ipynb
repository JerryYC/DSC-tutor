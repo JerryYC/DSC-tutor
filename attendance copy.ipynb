{
 "cells": [
  {
   "cell_type": "code",
   "execution_count": 15,
   "source": [
    "import pandas as pd\n",
    "from glob import glob\n",
    "from canvasapi import Canvas\n",
    "import re"
   ],
   "outputs": [],
   "metadata": {}
  },
  {
   "cell_type": "code",
   "execution_count": 16,
   "source": [
    "glob(\"marina/*\")"
   ],
   "outputs": [
    {
     "output_type": "execute_result",
     "data": {
      "text/plain": [
       "['marina/Polls-per-user-Lecture0_09-24.xlsx',\n",
       " 'marina/~$Polls-per-user-Lecture0_09-24.xlsx',\n",
       " 'marina/students.csv']"
      ]
     },
     "metadata": {},
     "execution_count": 16
    }
   ],
   "metadata": {}
  },
  {
   "cell_type": "code",
   "execution_count": 1,
   "source": [
    "# Canvas\n",
    "API_URL = \"https://canvas.ucsd.edu/\"\n",
    "API_KEY = ... # Account -> Settings -> New Access Token\n",
    "COURSE_ID = 31376 \n",
    "# Sooh DSC30 FA21: 31700\n",
    "# Marina DSC30 FA21: 31376\n",
    "\n",
    "\n",
    "# Sli.do results to be added\n",
    "all_files = ['marina/Polls-per-user-Lecture0_09-24.xlsx']"
   ],
   "outputs": [],
   "metadata": {}
  },
  {
   "cell_type": "code",
   "execution_count": 18,
   "source": [
    "# Login to Canvas\n",
    "canvas = Canvas(API_URL, API_KEY)\n",
    "course = canvas.get_course(COURSE_ID)\n",
    "print(course.name)"
   ],
   "outputs": [
    {
     "output_type": "stream",
     "name": "stdout",
     "text": [
      "DSC 30 - DataStrc/Algrthms for Data Sci - Langlois [FA21]\n"
     ]
    }
   ],
   "metadata": {}
  },
  {
   "cell_type": "code",
   "execution_count": 48,
   "source": [
    "### Process Sli.do result\n",
    "names = []\n",
    "scores = []\n",
    "for fname in all_files:\n",
    "    name = re.findall(\"(Lecture[0-9]+)\",fname)[0]\n",
    "    names.append(name)\n",
    "    raw = pd.read_excel(fname, header = 0, skiprows=[1])\n",
    "    df = raw.drop(columns = [\"User ID\", \"User Name\", \"User company\", \"Total Correct Answers\"]).set_index(\"User Email\")\n",
    "    # drop question if only one person answer the question\n",
    "    df = df.drop(columns = df.columns[df.notna().sum()<=1])\n",
    "    scores.append((df.isna().mean(axis = 1) < 0.25).rename(name).to_frame())\n",
    "print(names)"
   ],
   "outputs": [
    {
     "output_type": "stream",
     "name": "stdout",
     "text": [
      "['Lecture0']\n"
     ]
    }
   ],
   "metadata": {}
  },
  {
   "cell_type": "code",
   "execution_count": 20,
   "source": [
    "### Find assisgnment group\n",
    "group_name = \"Lecture Attendance\"\n",
    "group_id = -1\n",
    "for group in course.get_assignment_groups():\n",
    "    if group.name == group_name:\n",
    "        group_id = group.id\n",
    "        break\n",
    "assert group_id != -1, \"Manually create the assignemt group first\"\n",
    "group_id"
   ],
   "outputs": [
    {
     "output_type": "execute_result",
     "data": {
      "text/plain": [
       "136770"
      ]
     },
     "metadata": {},
     "execution_count": 20
    }
   ],
   "metadata": {}
  },
  {
   "cell_type": "code",
   "execution_count": 21,
   "source": [
    "### Get student id - Name - Email\n",
    "### Rerun when new student is added\n",
    "\n",
    "# student_ls = []\n",
    "# for stu in course.get_users(enrollment_type=['student'], enrollment_state=['active']):\n",
    "#     student_ls.append([stu.id, stu.name, stu.get_profile()[\"primary_email\"]])\n",
    "# students = pd.DataFrame(student_ls, columns = [\"id\", \"name\", \"email\"])\n",
    "# students.to_csv(\"marina/students.csv\")\n",
    "# print(len(students))\n",
    "\n",
    "if COURSE_ID == 31700:\n",
    "    students = pd.read_csv(\"sooh/students.csv\", index_col=0)\n",
    "elif COURSE_ID == 31376:\n",
    "    students = pd.read_csv(\"marina/students.csv\", index_col=0)\n",
    "else:\n",
    "    raise NotImplementedError()\n",
    "print(len(students))"
   ],
   "outputs": [
    {
     "output_type": "stream",
     "name": "stdout",
     "text": [
      "34\n"
     ]
    }
   ],
   "metadata": {}
  },
  {
   "cell_type": "code",
   "execution_count": 22,
   "source": [
    "# Join \n",
    "joined = students.copy().set_index(\"email\")\n",
    "for score in scores:\n",
    "    joined = joined.join(score, how=\"outer\")\n",
    "joined = joined.fillna(False)"
   ],
   "outputs": [],
   "metadata": {}
  },
  {
   "cell_type": "code",
   "execution_count": 23,
   "source": [
    "joined.tail()"
   ],
   "outputs": [
    {
     "output_type": "execute_result",
     "data": {
      "text/html": [
       "<div>\n",
       "<style scoped>\n",
       "    .dataframe tbody tr th:only-of-type {\n",
       "        vertical-align: middle;\n",
       "    }\n",
       "\n",
       "    .dataframe tbody tr th {\n",
       "        vertical-align: top;\n",
       "    }\n",
       "\n",
       "    .dataframe thead th {\n",
       "        text-align: right;\n",
       "    }\n",
       "</style>\n",
       "<table border=\"1\" class=\"dataframe\">\n",
       "  <thead>\n",
       "    <tr style=\"text-align: right;\">\n",
       "      <th></th>\n",
       "      <th>id</th>\n",
       "      <th>name</th>\n",
       "      <th>Lecture0</th>\n",
       "    </tr>\n",
       "  </thead>\n",
       "  <tbody>\n",
       "    <tr>\n",
       "      <th>z1song@ucsd.edu</th>\n",
       "      <td>21918.0</td>\n",
       "      <td>Zhengde Song</td>\n",
       "      <td>True</td>\n",
       "    </tr>\n",
       "    <tr>\n",
       "      <th>zgong@ucsd.edu</th>\n",
       "      <td>101994.0</td>\n",
       "      <td>Ziling Gong</td>\n",
       "      <td>True</td>\n",
       "    </tr>\n",
       "    <tr>\n",
       "      <th>zhw040@ucsd.edu</th>\n",
       "      <td>72683.0</td>\n",
       "      <td>Zhekai Wang</td>\n",
       "      <td>True</td>\n",
       "    </tr>\n",
       "    <tr>\n",
       "      <th>zhz044@ucsd.edu</th>\n",
       "      <td>94249.0</td>\n",
       "      <td>Zhuji Zhang</td>\n",
       "      <td>True</td>\n",
       "    </tr>\n",
       "    <tr>\n",
       "      <th>ziz013@ucsd.edu</th>\n",
       "      <td>81204.0</td>\n",
       "      <td>Sharon Zhao</td>\n",
       "      <td>True</td>\n",
       "    </tr>\n",
       "  </tbody>\n",
       "</table>\n",
       "</div>"
      ],
      "text/plain": [
       "                       id          name  Lecture0\n",
       "z1song@ucsd.edu   21918.0  Zhengde Song      True\n",
       "zgong@ucsd.edu   101994.0   Ziling Gong      True\n",
       "zhw040@ucsd.edu   72683.0   Zhekai Wang      True\n",
       "zhz044@ucsd.edu   94249.0   Zhuji Zhang      True\n",
       "ziz013@ucsd.edu   81204.0   Sharon Zhao      True"
      ]
     },
     "metadata": {},
     "execution_count": 23
    }
   ],
   "metadata": {}
  },
  {
   "cell_type": "code",
   "execution_count": 25,
   "source": [
    "existed_assignment = [a.name for a in course.get_assignments()]"
   ],
   "outputs": [],
   "metadata": {}
  },
  {
   "cell_type": "code",
   "execution_count": 26,
   "source": [
    "for col in names:\n",
    "    if col in existed_assignment:\n",
    "        continue\n",
    "    new_assignment = course.create_assignment({\n",
    "        'name': col,\n",
    "        'notify_of_update': False,\n",
    "        'points_possible': 1,\n",
    "        'published': True,\n",
    "        \"assignment_group_id\":group_id\n",
    "    })\n",
    "    for email, id  in joined[\"id\"][joined[col]].items():\n",
    "        if id == False:\n",
    "            print(email + \"not on canvas\")\n",
    "            continue\n",
    "        new_assignment.get_submission(id).edit(submission={'posted_grade': 1})\n",
    "            "
   ],
   "outputs": [
    {
     "output_type": "stream",
     "name": "stdout",
     "text": [
      "soohyunnamliao@gmail.com\n"
     ]
    }
   ],
   "metadata": {}
  },
  {
   "cell_type": "code",
   "execution_count": null,
   "source": [],
   "outputs": [],
   "metadata": {}
  }
 ],
 "metadata": {
  "orig_nbformat": 4,
  "language_info": {
   "name": "python",
   "version": "3.9.4",
   "mimetype": "text/x-python",
   "codemirror_mode": {
    "name": "ipython",
    "version": 3
   },
   "pygments_lexer": "ipython3",
   "nbconvert_exporter": "python",
   "file_extension": ".py"
  },
  "kernelspec": {
   "name": "python3",
   "display_name": "Python 3.9.4 64-bit"
  },
  "interpreter": {
   "hash": "397704579725e15f5c7cb49fe5f0341eb7531c82d19f2c29d197e8b64ab5776b"
  }
 },
 "nbformat": 4,
 "nbformat_minor": 2
}