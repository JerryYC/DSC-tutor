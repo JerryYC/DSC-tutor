{
 "cells": [
  {
   "cell_type": "markdown",
   "metadata": {},
   "source": [
    "# Package Import"
   ]
  },
  {
   "cell_type": "code",
   "execution_count": null,
   "metadata": {},
   "outputs": [],
   "source": [
    "import pandas as pd\n",
    "from glob import glob\n",
    "from canvasapi import Canvas\n",
    "import re\n",
    "import os"
   ]
  },
  {
   "cell_type": "markdown",
   "metadata": {},
   "source": [
    "# Setup\n",
    "## Running the script for the first time\n",
    "1. Generate Canvas token and assign it to `API_KEY`\n",
    "2. Get Canvas course ID and assign it to `COURSE_ID`\n",
    "3. Create an assignment group on canvas\n",
    "\n",
    "## Configurations\n",
    "- `API_URL`: url of the canvas domain\n",
    "- `API_KEY`: Canvas key to tutor's account (can be generated in Account -> Settings -> New Access Token)\n",
    "- `COURSE_ID`: ID of the course (the 5-digit number in the url of the course's canvas page)\n",
    "- `all_files`: list of the paths to participation file from sli.do (analytics -> export -> Poll results per user)\n",
    "- `threshold`: Fraction of questions a student can miss and still get the credit\n",
    "- `group_name`: Name of the assignment group for attendance"
   ]
  },
  {
   "cell_type": "code",
   "execution_count": null,
   "metadata": {},
   "outputs": [],
   "source": [
    "API_URL = \"https://canvas.ucsd.edu/\"\n",
    "API_KEY = ...\n",
    "COURSE_ID = ... \n",
    "all_files = ['marina/Polls-per-user-Lecture0_09-24.xlsx']\n",
    "threshold = 0.25\n",
    "group_name = \"Lecture Attendance\""
   ]
  },
  {
   "cell_type": "code",
   "execution_count": null,
   "metadata": {},
   "outputs": [],
   "source": [
    "# Login to Canvas\n",
    "canvas = Canvas(API_URL, API_KEY)\n",
    "course = canvas.get_course(COURSE_ID)\n",
    "print(f'Successfully logged in to: {course.name}')"
   ]
  },
  {
   "cell_type": "markdown",
   "metadata": {},
   "source": [
    "# Parse Sli.do result"
   ]
  },
  {
   "cell_type": "code",
   "execution_count": null,
   "metadata": {},
   "outputs": [],
   "source": [
    "### Process Sli.do result\n",
    "names = []\n",
    "scores = []\n",
    "for fname in all_files:\n",
    "    # Find the name of the assignment Lecture00 or Lec00, modify if needed\n",
    "    name = re.findall(\"((?:Lecture|Lec)[0-9]+)\",fname)[0]\n",
    "    names.append(name)\n",
    "    \n",
    "    # read file\n",
    "    raw = pd.read_excel(fname, header = 0, skiprows=[1])\n",
    "    df = raw.drop(columns = [\"User ID\", \"User Name\", \"User company\", \"Total Correct Answers\"]).set_index(\"User Email\")\n",
    "    \n",
    "    # drop question if less than 2 people answered it \n",
    "    df = df.drop(columns = df.columns[df.notna().sum()<=1])\n",
    "    \n",
    "    # Calculate score for each student\n",
    "    scores.append((df.isna().mean(axis = 1) < threshold).rename(name).to_frame())\n",
    "print(names)"
   ]
  },
  {
   "cell_type": "markdown",
   "metadata": {},
   "source": [
    "# Get assignment group ID"
   ]
  },
  {
   "cell_type": "code",
   "execution_count": null,
   "metadata": {},
   "outputs": [],
   "source": [
    "### Find assisgnment group\n",
    "group_id = -1\n",
    "for group in course.get_assignment_groups():\n",
    "    if group.name == group_name:\n",
    "        group_id = group.id\n",
    "        break\n",
    "assert group_id != -1, \"Manually create the assignemt group first\"\n",
    "group_id"
   ]
  },
  {
   "cell_type": "markdown",
   "metadata": {},
   "source": [
    "# Get student info from Canvas \n",
    "**run this cell only when new student is added to the course**"
   ]
  },
  {
   "cell_type": "code",
   "execution_count": null,
   "metadata": {},
   "outputs": [],
   "source": [
    "### Get student info: id - Name - Email\n",
    "# student_ls = []\n",
    "# for stu in course.get_users(enrollment_type=['student'], enrollment_state=['active']):\n",
    "#     student_ls.append([stu.id, stu.name, stu.get_profile()[\"primary_email\"]])\n",
    "# students = pd.DataFrame(student_ls, columns = [\"id\", \"name\", \"email\"])\n",
    "# students.to_csv(\"students.csv\")\n",
    "# print(f'Number of students: {len(students)}')"
   ]
  },
  {
   "cell_type": "code",
   "execution_count": null,
   "metadata": {},
   "outputs": [],
   "source": [
    "assert os.path.exists(\"students.csv\"), \"Run the cell above\"\n",
    "students = pd.read_csv(\"students.csv\", index_col=0)\n",
    "print(len(students))"
   ]
  },
  {
   "cell_type": "markdown",
   "metadata": {},
   "source": [
    "# Upload score to Canvas"
   ]
  },
  {
   "cell_type": "code",
   "execution_count": null,
   "metadata": {},
   "outputs": [],
   "source": [
    "# Join tables\n",
    "joined = students.copy().set_index(\"email\")\n",
    "for score in scores:\n",
    "    joined = joined.join(score, how=\"outer\")\n",
    "joined = joined.fillna(False)\n",
    "joined.tail()"
   ]
  },
  {
   "cell_type": "code",
   "execution_count": null,
   "metadata": {},
   "outputs": [],
   "source": [
    "# check for duplication\n",
    "existed_assignment = [a.name for a in course.get_assignments()]"
   ]
  },
  {
   "cell_type": "code",
   "execution_count": null,
   "metadata": {},
   "outputs": [],
   "source": [
    "for col in names:\n",
    "    if col in existed_assignment:    # skip if assignment already existed\n",
    "        continue\n",
    "        \n",
    "    # create new assignment\n",
    "    new_assignment = course.create_assignment({ \n",
    "        'name': col,\n",
    "        'notify_of_update': False,\n",
    "        'points_possible': 1,\n",
    "        'published': True,\n",
    "        \"assignment_group_id\":group_id\n",
    "    })\n",
    "    \n",
    "    # Submit score \n",
    "    for email, id  in joined[\"id\"].items():\n",
    "        if id == False:\n",
    "            print(f'Student with email {email} not found on canvas')\n",
    "            continue\n",
    "        if joined[col][email]:\n",
    "            new_assignment.get_submission(id).edit(submission={'posted_grade': 1})\n",
    "        else:\n",
    "            new_assignment.get_submission(id).edit(submission={'posted_grade': 0})"
   ]
  },
  {
   "cell_type": "markdown",
   "metadata": {},
   "source": [
    "# Check if the score is updated correctly!!!"
   ]
  }
 ],
 "metadata": {
  "interpreter": {
   "hash": "397704579725e15f5c7cb49fe5f0341eb7531c82d19f2c29d197e8b64ab5776b"
  },
  "kernelspec": {
   "display_name": "Python 3",
   "language": "python",
   "name": "python3"
  },
  "language_info": {
   "codemirror_mode": {
    "name": "ipython",
    "version": 3
   },
   "file_extension": ".py",
   "mimetype": "text/x-python",
   "name": "python",
   "nbconvert_exporter": "python",
   "pygments_lexer": "ipython3",
   "version": "3.8.8"
  }
 },
 "nbformat": 4,
 "nbformat_minor": 2
}
