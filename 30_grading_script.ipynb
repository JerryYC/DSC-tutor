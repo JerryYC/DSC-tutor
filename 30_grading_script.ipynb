{
 "cells": [
  {
   "cell_type": "code",
   "execution_count": 1,
   "metadata": {},
   "outputs": [],
   "source": [
    "import pandas as pd\n",
    "import numpy as np"
   ]
  },
  {
   "cell_type": "code",
   "execution_count": 2,
   "metadata": {},
   "outputs": [],
   "source": [
    "gradescope = pd.read_csv('gradescope.csv')"
   ]
  },
  {
   "cell_type": "code",
   "execution_count": 3,
   "metadata": {},
   "outputs": [],
   "source": [
    "output = gradescope[['Name','SID','Email']]"
   ]
  },
  {
   "cell_type": "code",
   "execution_count": 4,
   "metadata": {},
   "outputs": [],
   "source": [
    "cols = [i for i in gradescope.columns if 'Max Points' not in i]"
   ]
  },
  {
   "cell_type": "code",
   "execution_count": 5,
   "metadata": {},
   "outputs": [],
   "source": [
    "gradescpe = gradescope[cols]"
   ]
  },
  {
   "cell_type": "code",
   "execution_count": 6,
   "metadata": {},
   "outputs": [],
   "source": [
    "def determine_lateness(x,y):\n",
    "    splitted =x.split(':')\n",
    "    if int(splitted[0]) ==24 and int(splitted[1]) <= 5:\n",
    "        return y*0.8\n",
    "    elif int(splitted[0]) == 0 and int(splitted[1]) <= 5:\n",
    "        return y\n",
    "    elif int(splitted[0]) < 24:\n",
    "        return y*0.8\n",
    "    else:\n",
    "        return y"
   ]
  },
  {
   "cell_type": "code",
   "execution_count": 7,
   "metadata": {},
   "outputs": [],
   "source": [
    "def create_column(PA_col,with_checkpoint, with_part1,with_part2):\n",
    "    PA = gradescope[[i for i in cols if PA_col in i]]\n",
    "    PA_lateness = PA_col + ' - Lateness (H:M:S)'\n",
    "    if 'final' in PA:\n",
    "        grade_pa = PA[PA_col].fillna(0)\n",
    "    else:\n",
    "        grade_pa = PA.apply(lambda x: determine_lateness(x[PA_lateness],x[PA_col]),axis=1).fillna(0)\n",
    "    if with_part1:\n",
    "        grade_pa = grade_pa + PA.apply(lambda x: determine_lateness(x[PA_col+' Part 1 - Lateness (H:M:S)'],\n",
    "                                                      x[PA_col+' Part 1']),axis=1).fillna(0)\n",
    "    if with_part2:\n",
    "        grade_pa = grade_pa + PA.apply(lambda x: determine_lateness(x[PA_col+' Part 2 - Lateness (H:M:S)'],\n",
    "                                                      x[PA_col+' Part 2']),axis=1).fillna(0)\n",
    "    if with_checkpoint:\n",
    "        grade_pa = grade_pa+PA[PA_col+'_Checkpoint'].fillna(0)\n",
    "    return grade_pa"
   ]
  },
  {
   "cell_type": "code",
   "execution_count": 9,
   "metadata": {},
   "outputs": [
    {
     "name": "stderr",
     "output_type": "stream",
     "text": [
      "/Users/elvychen/opt/anaconda3/lib/python3.7/site-packages/ipykernel_launcher.py:4: SettingWithCopyWarning: \n",
      "A value is trying to be set on a copy of a slice from a DataFrame.\n",
      "Try using .loc[row_indexer,col_indexer] = value instead\n",
      "\n",
      "See the caveats in the documentation: http://pandas.pydata.org/pandas-docs/stable/user_guide/indexing.html#returning-a-view-versus-a-copy\n",
      "  after removing the cwd from sys.path.\n"
     ]
    },
    {
     "data": {
      "text/html": [
       "<div>\n",
       "<style scoped>\n",
       "    .dataframe tbody tr th:only-of-type {\n",
       "        vertical-align: middle;\n",
       "    }\n",
       "\n",
       "    .dataframe tbody tr th {\n",
       "        vertical-align: top;\n",
       "    }\n",
       "\n",
       "    .dataframe thead th {\n",
       "        text-align: right;\n",
       "    }\n",
       "</style>\n",
       "<table border=\"1\" class=\"dataframe\">\n",
       "  <thead>\n",
       "    <tr style=\"text-align: right;\">\n",
       "      <th></th>\n",
       "      <th>Name</th>\n",
       "      <th>SID</th>\n",
       "      <th>Email</th>\n",
       "      <th>PA9</th>\n",
       "      <th>PA10</th>\n",
       "    </tr>\n",
       "  </thead>\n",
       "  <tbody>\n",
       "    <tr>\n",
       "      <td>178</td>\n",
       "      <td>Zhiyuan Yang</td>\n",
       "      <td>a15537584</td>\n",
       "      <td>z6yang@ucsd.edu</td>\n",
       "      <td>98.0</td>\n",
       "      <td>92.0</td>\n",
       "    </tr>\n",
       "    <tr>\n",
       "      <td>179</td>\n",
       "      <td>Zhuji Zhang</td>\n",
       "      <td>A16329547</td>\n",
       "      <td>zhz044@ucsd.edu</td>\n",
       "      <td>0.0</td>\n",
       "      <td>0.0</td>\n",
       "    </tr>\n",
       "    <tr>\n",
       "      <td>180</td>\n",
       "      <td>Zimin Dai</td>\n",
       "      <td>A14509602</td>\n",
       "      <td>z9dai@ucsd.edu</td>\n",
       "      <td>90.0</td>\n",
       "      <td>80.5</td>\n",
       "    </tr>\n",
       "    <tr>\n",
       "      <td>181</td>\n",
       "      <td>Zytal Lenus</td>\n",
       "      <td>A15398132</td>\n",
       "      <td>zlenus@ucsd.edu</td>\n",
       "      <td>0.0</td>\n",
       "      <td>0.0</td>\n",
       "    </tr>\n",
       "    <tr>\n",
       "      <td>182</td>\n",
       "      <td>mirodova@gmail.com</td>\n",
       "      <td>NaN</td>\n",
       "      <td>mirodova@gmail.com</td>\n",
       "      <td>0.0</td>\n",
       "      <td>0.0</td>\n",
       "    </tr>\n",
       "  </tbody>\n",
       "</table>\n",
       "</div>"
      ],
      "text/plain": [
       "                   Name        SID               Email   PA9  PA10\n",
       "178        Zhiyuan Yang  a15537584     z6yang@ucsd.edu  98.0  92.0\n",
       "179         Zhuji Zhang  A16329547     zhz044@ucsd.edu   0.0   0.0\n",
       "180           Zimin Dai  A14509602      z9dai@ucsd.edu  90.0  80.5\n",
       "181         Zytal Lenus  A15398132     zlenus@ucsd.edu   0.0   0.0\n",
       "182  mirodova@gmail.com        NaN  mirodova@gmail.com   0.0   0.0"
      ]
     },
     "execution_count": 9,
     "metadata": {},
     "output_type": "execute_result"
    }
   ],
   "source": [
    "PA_col = 'PA10' # Adjust column name here\n",
    "# PA_col name (string), with_checkpoint(boolean), with_part1 (boolean), with_part2(boolean)\n",
    "new_pa = create_column(PA_col,False,False,False) \n",
    "output[PA_col] = new_pa\n",
    "output.tail(5)"
   ]
  },
  {
   "cell_type": "code",
   "execution_count": 35,
   "metadata": {},
   "outputs": [
    {
     "data": {
      "text/plain": [
       "['Midterm1', 'Midterm2']"
      ]
     },
     "execution_count": 35,
     "metadata": {},
     "output_type": "execute_result"
    }
   ],
   "source": [
    "midterms = []\n",
    "for i in gradescope.columns:\n",
    "    if 'Max Points' not in i and 'Submission' not in i and 'Lateness' not in i and 'self-proctor' not in i.lower():\n",
    "        if 'Midterm' in i or 'midterm' in i:\n",
    "            midterms.append(i)\n",
    "midterms"
   ]
  },
  {
   "cell_type": "code",
   "execution_count": 36,
   "metadata": {},
   "outputs": [
    {
     "name": "stderr",
     "output_type": "stream",
     "text": [
      "/Users/elvychen/opt/anaconda3/lib/python3.7/site-packages/ipykernel_launcher.py:1: SettingWithCopyWarning: \n",
      "A value is trying to be set on a copy of a slice from a DataFrame.\n",
      "Try using .loc[row_indexer,col_indexer] = value instead\n",
      "\n",
      "See the caveats in the documentation: http://pandas.pydata.org/pandas-docs/stable/user_guide/indexing.html#returning-a-view-versus-a-copy\n",
      "  \"\"\"Entry point for launching an IPython kernel.\n"
     ]
    }
   ],
   "source": [
    "output['Midterm2'] = gradescope['Midterm2'].fillna(0)"
   ]
  },
  {
   "cell_type": "code",
   "execution_count": 10,
   "metadata": {},
   "outputs": [
    {
     "data": {
      "text/html": [
       "<div>\n",
       "<style scoped>\n",
       "    .dataframe tbody tr th:only-of-type {\n",
       "        vertical-align: middle;\n",
       "    }\n",
       "\n",
       "    .dataframe tbody tr th {\n",
       "        vertical-align: top;\n",
       "    }\n",
       "\n",
       "    .dataframe thead th {\n",
       "        text-align: right;\n",
       "    }\n",
       "</style>\n",
       "<table border=\"1\" class=\"dataframe\">\n",
       "  <thead>\n",
       "    <tr style=\"text-align: right;\">\n",
       "      <th></th>\n",
       "      <th>Name</th>\n",
       "      <th>SID</th>\n",
       "      <th>Email</th>\n",
       "      <th>PA9</th>\n",
       "      <th>PA10</th>\n",
       "    </tr>\n",
       "  </thead>\n",
       "  <tbody>\n",
       "    <tr>\n",
       "      <td>0</td>\n",
       "      <td>Aishani Mohapatra</td>\n",
       "      <td>A16652568</td>\n",
       "      <td>aimohapatra@ucsd.edu</td>\n",
       "      <td>90.40</td>\n",
       "      <td>100.0</td>\n",
       "    </tr>\n",
       "    <tr>\n",
       "      <td>1</td>\n",
       "      <td>Akshat Muir</td>\n",
       "      <td>A16663537</td>\n",
       "      <td>akmuir@ucsd.edu</td>\n",
       "      <td>0.00</td>\n",
       "      <td>0.0</td>\n",
       "    </tr>\n",
       "    <tr>\n",
       "      <td>2</td>\n",
       "      <td>Alan Amirian</td>\n",
       "      <td>A15424176</td>\n",
       "      <td>aeamiria@ucsd.edu</td>\n",
       "      <td>79.00</td>\n",
       "      <td>83.0</td>\n",
       "    </tr>\n",
       "    <tr>\n",
       "      <td>3</td>\n",
       "      <td>Alec Mardikian</td>\n",
       "      <td>A15477624</td>\n",
       "      <td>amardiki@ucsd.edu</td>\n",
       "      <td>80.33</td>\n",
       "      <td>46.0</td>\n",
       "    </tr>\n",
       "    <tr>\n",
       "      <td>4</td>\n",
       "      <td>Alec Panattoni</td>\n",
       "      <td>A16562827</td>\n",
       "      <td>apanatto@ucsd.edu</td>\n",
       "      <td>103.00</td>\n",
       "      <td>91.0</td>\n",
       "    </tr>\n",
       "  </tbody>\n",
       "</table>\n",
       "</div>"
      ],
      "text/plain": [
       "                Name        SID                 Email     PA9   PA10\n",
       "0  Aishani Mohapatra  A16652568  aimohapatra@ucsd.edu   90.40  100.0\n",
       "1        Akshat Muir  A16663537       akmuir@ucsd.edu    0.00    0.0\n",
       "2       Alan Amirian  A15424176     aeamiria@ucsd.edu   79.00   83.0\n",
       "3     Alec Mardikian  A15477624     amardiki@ucsd.edu   80.33   46.0\n",
       "4     Alec Panattoni  A16562827     apanatto@ucsd.edu  103.00   91.0"
      ]
     },
     "execution_count": 10,
     "metadata": {},
     "output_type": "execute_result"
    }
   ],
   "source": [
    "output.head()"
   ]
  },
  {
   "cell_type": "code",
   "execution_count": 11,
   "metadata": {},
   "outputs": [
    {
     "name": "stderr",
     "output_type": "stream",
     "text": [
      "/Users/elvychen/opt/anaconda3/lib/python3.7/site-packages/ipykernel_launcher.py:1: SettingWithCopyWarning: \n",
      "A value is trying to be set on a copy of a slice from a DataFrame.\n",
      "Try using .loc[row_indexer,col_indexer] = value instead\n",
      "\n",
      "See the caveats in the documentation: http://pandas.pydata.org/pandas-docs/stable/user_guide/indexing.html#returning-a-view-versus-a-copy\n",
      "  \"\"\"Entry point for launching an IPython kernel.\n"
     ]
    }
   ],
   "source": [
    "output['SIS Login ID'] = output['Email'].apply(lambda x: x.split('@')[0])"
   ]
  },
  {
   "cell_type": "code",
   "execution_count": 12,
   "metadata": {},
   "outputs": [
    {
     "data": {
      "text/plain": [
       "Index(['Name', 'SID', 'Email', 'PA9', 'PA10', 'SIS Login ID'], dtype='object')"
      ]
     },
     "execution_count": 12,
     "metadata": {},
     "output_type": "execute_result"
    }
   ],
   "source": [
    "output.columns"
   ]
  },
  {
   "cell_type": "code",
   "execution_count": 13,
   "metadata": {},
   "outputs": [],
   "source": [
    "canvas = pd.read_csv('canvas.csv')[['Student','ID','SIS User ID','SIS Login ID']]"
   ]
  },
  {
   "cell_type": "code",
   "execution_count": 14,
   "metadata": {},
   "outputs": [
    {
     "data": {
      "text/html": [
       "<div>\n",
       "<style scoped>\n",
       "    .dataframe tbody tr th:only-of-type {\n",
       "        vertical-align: middle;\n",
       "    }\n",
       "\n",
       "    .dataframe tbody tr th {\n",
       "        vertical-align: top;\n",
       "    }\n",
       "\n",
       "    .dataframe thead th {\n",
       "        text-align: right;\n",
       "    }\n",
       "</style>\n",
       "<table border=\"1\" class=\"dataframe\">\n",
       "  <thead>\n",
       "    <tr style=\"text-align: right;\">\n",
       "      <th></th>\n",
       "      <th>Student</th>\n",
       "      <th>ID</th>\n",
       "      <th>SIS User ID</th>\n",
       "      <th>SIS Login ID</th>\n",
       "    </tr>\n",
       "  </thead>\n",
       "  <tbody>\n",
       "    <tr>\n",
       "      <td>0</td>\n",
       "      <td>Points Possible</td>\n",
       "      <td>NaN</td>\n",
       "      <td>NaN</td>\n",
       "      <td>NaN</td>\n",
       "    </tr>\n",
       "    <tr>\n",
       "      <td>1</td>\n",
       "      <td>Aguirre, Samuel</td>\n",
       "      <td>109581.0</td>\n",
       "      <td>A16687170</td>\n",
       "      <td>saguirre</td>\n",
       "    </tr>\n",
       "    <tr>\n",
       "      <td>2</td>\n",
       "      <td>Ahmann, Nathan</td>\n",
       "      <td>63454.0</td>\n",
       "      <td>A15941151</td>\n",
       "      <td>nahmann</td>\n",
       "    </tr>\n",
       "    <tr>\n",
       "      <td>3</td>\n",
       "      <td>Ahmed, Tonoya</td>\n",
       "      <td>108059.0</td>\n",
       "      <td>A16672415</td>\n",
       "      <td>ttahmed</td>\n",
       "    </tr>\n",
       "    <tr>\n",
       "      <td>4</td>\n",
       "      <td>Ali, Rehan</td>\n",
       "      <td>101023.0</td>\n",
       "      <td>A16211966</td>\n",
       "      <td>rmali</td>\n",
       "    </tr>\n",
       "  </tbody>\n",
       "</table>\n",
       "</div>"
      ],
      "text/plain": [
       "               Student        ID SIS User ID SIS Login ID\n",
       "0      Points Possible       NaN         NaN          NaN\n",
       "1      Aguirre, Samuel  109581.0   A16687170     saguirre\n",
       "2       Ahmann, Nathan   63454.0   A15941151      nahmann\n",
       "3        Ahmed, Tonoya  108059.0   A16672415      ttahmed\n",
       "4           Ali, Rehan  101023.0   A16211966        rmali"
      ]
     },
     "execution_count": 14,
     "metadata": {},
     "output_type": "execute_result"
    }
   ],
   "source": [
    "canvas.head()"
   ]
  },
  {
   "cell_type": "code",
   "execution_count": 15,
   "metadata": {},
   "outputs": [
    {
     "data": {
      "text/html": [
       "<div>\n",
       "<style scoped>\n",
       "    .dataframe tbody tr th:only-of-type {\n",
       "        vertical-align: middle;\n",
       "    }\n",
       "\n",
       "    .dataframe tbody tr th {\n",
       "        vertical-align: top;\n",
       "    }\n",
       "\n",
       "    .dataframe thead th {\n",
       "        text-align: right;\n",
       "    }\n",
       "</style>\n",
       "<table border=\"1\" class=\"dataframe\">\n",
       "  <thead>\n",
       "    <tr style=\"text-align: right;\">\n",
       "      <th></th>\n",
       "      <th>Name</th>\n",
       "      <th>SID</th>\n",
       "      <th>Email</th>\n",
       "      <th>PA9</th>\n",
       "      <th>PA10</th>\n",
       "      <th>SIS Login ID</th>\n",
       "    </tr>\n",
       "  </thead>\n",
       "  <tbody>\n",
       "    <tr>\n",
       "      <td>0</td>\n",
       "      <td>Aishani Mohapatra</td>\n",
       "      <td>A16652568</td>\n",
       "      <td>aimohapatra@ucsd.edu</td>\n",
       "      <td>90.40</td>\n",
       "      <td>100.0</td>\n",
       "      <td>aimohapatra</td>\n",
       "    </tr>\n",
       "    <tr>\n",
       "      <td>1</td>\n",
       "      <td>Akshat Muir</td>\n",
       "      <td>A16663537</td>\n",
       "      <td>akmuir@ucsd.edu</td>\n",
       "      <td>0.00</td>\n",
       "      <td>0.0</td>\n",
       "      <td>akmuir</td>\n",
       "    </tr>\n",
       "    <tr>\n",
       "      <td>2</td>\n",
       "      <td>Alan Amirian</td>\n",
       "      <td>A15424176</td>\n",
       "      <td>aeamiria@ucsd.edu</td>\n",
       "      <td>79.00</td>\n",
       "      <td>83.0</td>\n",
       "      <td>aeamiria</td>\n",
       "    </tr>\n",
       "    <tr>\n",
       "      <td>3</td>\n",
       "      <td>Alec Mardikian</td>\n",
       "      <td>A15477624</td>\n",
       "      <td>amardiki@ucsd.edu</td>\n",
       "      <td>80.33</td>\n",
       "      <td>46.0</td>\n",
       "      <td>amardiki</td>\n",
       "    </tr>\n",
       "    <tr>\n",
       "      <td>4</td>\n",
       "      <td>Alec Panattoni</td>\n",
       "      <td>A16562827</td>\n",
       "      <td>apanatto@ucsd.edu</td>\n",
       "      <td>103.00</td>\n",
       "      <td>91.0</td>\n",
       "      <td>apanatto</td>\n",
       "    </tr>\n",
       "  </tbody>\n",
       "</table>\n",
       "</div>"
      ],
      "text/plain": [
       "                Name        SID                 Email     PA9   PA10  \\\n",
       "0  Aishani Mohapatra  A16652568  aimohapatra@ucsd.edu   90.40  100.0   \n",
       "1        Akshat Muir  A16663537       akmuir@ucsd.edu    0.00    0.0   \n",
       "2       Alan Amirian  A15424176     aeamiria@ucsd.edu   79.00   83.0   \n",
       "3     Alec Mardikian  A15477624     amardiki@ucsd.edu   80.33   46.0   \n",
       "4     Alec Panattoni  A16562827     apanatto@ucsd.edu  103.00   91.0   \n",
       "\n",
       "  SIS Login ID  \n",
       "0  aimohapatra  \n",
       "1       akmuir  \n",
       "2     aeamiria  \n",
       "3     amardiki  \n",
       "4     apanatto  "
      ]
     },
     "execution_count": 15,
     "metadata": {},
     "output_type": "execute_result"
    }
   ],
   "source": [
    "output.head()"
   ]
  },
  {
   "cell_type": "code",
   "execution_count": 16,
   "metadata": {},
   "outputs": [
    {
     "data": {
      "text/html": [
       "<div>\n",
       "<style scoped>\n",
       "    .dataframe tbody tr th:only-of-type {\n",
       "        vertical-align: middle;\n",
       "    }\n",
       "\n",
       "    .dataframe tbody tr th {\n",
       "        vertical-align: top;\n",
       "    }\n",
       "\n",
       "    .dataframe thead th {\n",
       "        text-align: right;\n",
       "    }\n",
       "</style>\n",
       "<table border=\"1\" class=\"dataframe\">\n",
       "  <thead>\n",
       "    <tr style=\"text-align: right;\">\n",
       "      <th></th>\n",
       "      <th>Student</th>\n",
       "      <th>ID</th>\n",
       "      <th>SIS User ID</th>\n",
       "      <th>SIS Login ID</th>\n",
       "      <th>Name</th>\n",
       "      <th>SID</th>\n",
       "      <th>Email</th>\n",
       "      <th>PA9</th>\n",
       "      <th>PA10</th>\n",
       "    </tr>\n",
       "  </thead>\n",
       "  <tbody>\n",
       "    <tr>\n",
       "      <td>146</td>\n",
       "      <td>Yu, Zhaoyi</td>\n",
       "      <td>80694.0</td>\n",
       "      <td>A15901415</td>\n",
       "      <td>zhy003</td>\n",
       "      <td>Zhaoyi Yu</td>\n",
       "      <td>A15901415</td>\n",
       "      <td>zhy003@ucsd.edu</td>\n",
       "      <td>105.00</td>\n",
       "      <td>100.0</td>\n",
       "    </tr>\n",
       "    <tr>\n",
       "      <td>147</td>\n",
       "      <td>Zavalza, Diego</td>\n",
       "      <td>94360.0</td>\n",
       "      <td>A16193208</td>\n",
       "      <td>dzavalza</td>\n",
       "      <td>Diego Zavalza</td>\n",
       "      <td>A16193208</td>\n",
       "      <td>dzavalza@ucsd.edu</td>\n",
       "      <td>75.00</td>\n",
       "      <td>46.5</td>\n",
       "    </tr>\n",
       "    <tr>\n",
       "      <td>148</td>\n",
       "      <td>Zeng, Taylor</td>\n",
       "      <td>102480.0</td>\n",
       "      <td>A16379175</td>\n",
       "      <td>tczeng</td>\n",
       "      <td>Taylor Zeng</td>\n",
       "      <td>A16379175</td>\n",
       "      <td>tczeng@ucsd.edu</td>\n",
       "      <td>78.67</td>\n",
       "      <td>83.0</td>\n",
       "    </tr>\n",
       "    <tr>\n",
       "      <td>149</td>\n",
       "      <td>Zhi, Xuzhe</td>\n",
       "      <td>99661.0</td>\n",
       "      <td>A16326028</td>\n",
       "      <td>xzhi</td>\n",
       "      <td>Xuzhe Zhi</td>\n",
       "      <td>A16326028</td>\n",
       "      <td>xzhi@ucsd.edu</td>\n",
       "      <td>98.00</td>\n",
       "      <td>100.0</td>\n",
       "    </tr>\n",
       "    <tr>\n",
       "      <td>150</td>\n",
       "      <td>Student, Test</td>\n",
       "      <td>139419.0</td>\n",
       "      <td>NaN</td>\n",
       "      <td>9cd8f74bd5429f2668da4cd38814aaa3612ce07f</td>\n",
       "      <td>NaN</td>\n",
       "      <td>NaN</td>\n",
       "      <td>NaN</td>\n",
       "      <td>NaN</td>\n",
       "      <td>NaN</td>\n",
       "    </tr>\n",
       "  </tbody>\n",
       "</table>\n",
       "</div>"
      ],
      "text/plain": [
       "            Student        ID SIS User ID  \\\n",
       "146      Yu, Zhaoyi   80694.0   A15901415   \n",
       "147  Zavalza, Diego   94360.0   A16193208   \n",
       "148    Zeng, Taylor  102480.0   A16379175   \n",
       "149      Zhi, Xuzhe   99661.0   A16326028   \n",
       "150   Student, Test  139419.0         NaN   \n",
       "\n",
       "                                 SIS Login ID           Name        SID  \\\n",
       "146                                    zhy003      Zhaoyi Yu  A15901415   \n",
       "147                                  dzavalza  Diego Zavalza  A16193208   \n",
       "148                                    tczeng    Taylor Zeng  A16379175   \n",
       "149                                      xzhi      Xuzhe Zhi  A16326028   \n",
       "150  9cd8f74bd5429f2668da4cd38814aaa3612ce07f            NaN        NaN   \n",
       "\n",
       "                 Email     PA9   PA10  \n",
       "146    zhy003@ucsd.edu  105.00  100.0  \n",
       "147  dzavalza@ucsd.edu   75.00   46.5  \n",
       "148    tczeng@ucsd.edu   78.67   83.0  \n",
       "149      xzhi@ucsd.edu   98.00  100.0  \n",
       "150                NaN     NaN    NaN  "
      ]
     },
     "execution_count": 16,
     "metadata": {},
     "output_type": "execute_result"
    }
   ],
   "source": [
    "final = canvas.merge(output,left_on='SIS Login ID',right_on = 'SIS Login ID',how='left')\n",
    "final.tail()"
   ]
  },
  {
   "cell_type": "code",
   "execution_count": 17,
   "metadata": {},
   "outputs": [],
   "source": [
    "final.to_csv('final.csv') #copy grade columns into your canvas.csv and upload on canvas "
   ]
  },
  {
   "cell_type": "code",
   "execution_count": null,
   "metadata": {},
   "outputs": [],
   "source": []
  }
 ],
 "metadata": {
  "kernelspec": {
   "display_name": "Python 3",
   "language": "python",
   "name": "python3"
  },
  "language_info": {
   "codemirror_mode": {
    "name": "ipython",
    "version": 3
   },
   "file_extension": ".py",
   "mimetype": "text/x-python",
   "name": "python",
   "nbconvert_exporter": "python",
   "pygments_lexer": "ipython3",
   "version": "3.7.4"
  }
 },
 "nbformat": 4,
 "nbformat_minor": 2
}
